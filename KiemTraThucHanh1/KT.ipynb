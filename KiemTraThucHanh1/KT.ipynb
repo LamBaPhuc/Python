{
 "cells": [
  {
   "cell_type": "code",
   "execution_count": 71,
   "metadata": {},
   "outputs": [],
   "source": [
    "import pandas as pd\n",
    "import seaborn as sns\n",
    "import matplotlib.pyplot as plt\n",
    "import numpy as np\n",
    "from scipy.stats import zscore\n",
    "from scipy.stats import chi2_contingency"
   ]
  },
  {
   "cell_type": "code",
   "execution_count": 72,
   "metadata": {},
   "outputs": [
    {
     "data": {
      "text/html": [
       "<div>\n",
       "<style scoped>\n",
       "    .dataframe tbody tr th:only-of-type {\n",
       "        vertical-align: middle;\n",
       "    }\n",
       "\n",
       "    .dataframe tbody tr th {\n",
       "        vertical-align: top;\n",
       "    }\n",
       "\n",
       "    .dataframe thead th {\n",
       "        text-align: right;\n",
       "    }\n",
       "</style>\n",
       "<table border=\"1\" class=\"dataframe\">\n",
       "  <thead>\n",
       "    <tr style=\"text-align: right;\">\n",
       "      <th></th>\n",
       "      <th>ORDERNUMBER</th>\n",
       "      <th>QUANTITYORDERED</th>\n",
       "      <th>ORDERLINENUMBER</th>\n",
       "      <th>SALES</th>\n",
       "      <th>ORDERDATE</th>\n",
       "      <th>STATUS</th>\n",
       "      <th>COUNTRY</th>\n",
       "      <th>DEALSIZE</th>\n",
       "      <th>Discount</th>\n",
       "      <th>Profit</th>\n",
       "    </tr>\n",
       "  </thead>\n",
       "  <tbody>\n",
       "    <tr>\n",
       "      <th>0</th>\n",
       "      <td>10107</td>\n",
       "      <td>30</td>\n",
       "      <td>2</td>\n",
       "      <td>2871.00</td>\n",
       "      <td>2003-02-24</td>\n",
       "      <td>Shipped</td>\n",
       "      <td>USA</td>\n",
       "      <td>Small</td>\n",
       "      <td>0.00</td>\n",
       "      <td>41.9136</td>\n",
       "    </tr>\n",
       "    <tr>\n",
       "      <th>1</th>\n",
       "      <td>10121</td>\n",
       "      <td>34</td>\n",
       "      <td>5</td>\n",
       "      <td>2765.90</td>\n",
       "      <td>2003-05-07</td>\n",
       "      <td>Shipped</td>\n",
       "      <td>France</td>\n",
       "      <td>Small</td>\n",
       "      <td>0.00</td>\n",
       "      <td>219.5820</td>\n",
       "    </tr>\n",
       "    <tr>\n",
       "      <th>2</th>\n",
       "      <td>10134</td>\n",
       "      <td>41</td>\n",
       "      <td>2</td>\n",
       "      <td>3884.34</td>\n",
       "      <td>2003-07-01</td>\n",
       "      <td>Shipped</td>\n",
       "      <td>France</td>\n",
       "      <td>Medium</td>\n",
       "      <td>0.00</td>\n",
       "      <td>6.8714</td>\n",
       "    </tr>\n",
       "    <tr>\n",
       "      <th>3</th>\n",
       "      <td>10145</td>\n",
       "      <td>45</td>\n",
       "      <td>6</td>\n",
       "      <td>3746.70</td>\n",
       "      <td>2003-08-25</td>\n",
       "      <td>Shipped</td>\n",
       "      <td>USA</td>\n",
       "      <td>Medium</td>\n",
       "      <td>0.45</td>\n",
       "      <td>-383.0310</td>\n",
       "    </tr>\n",
       "    <tr>\n",
       "      <th>4</th>\n",
       "      <td>10159</td>\n",
       "      <td>49</td>\n",
       "      <td>14</td>\n",
       "      <td>5205.27</td>\n",
       "      <td>2003-10-10</td>\n",
       "      <td>Shipped</td>\n",
       "      <td>USA</td>\n",
       "      <td>Medium</td>\n",
       "      <td>0.20</td>\n",
       "      <td>2.5164</td>\n",
       "    </tr>\n",
       "  </tbody>\n",
       "</table>\n",
       "</div>"
      ],
      "text/plain": [
       "   ORDERNUMBER  QUANTITYORDERED  ORDERLINENUMBER    SALES  ORDERDATE   STATUS  \\\n",
       "0        10107               30                2  2871.00 2003-02-24  Shipped   \n",
       "1        10121               34                5  2765.90 2003-05-07  Shipped   \n",
       "2        10134               41                2  3884.34 2003-07-01  Shipped   \n",
       "3        10145               45                6  3746.70 2003-08-25  Shipped   \n",
       "4        10159               49               14  5205.27 2003-10-10  Shipped   \n",
       "\n",
       "  COUNTRY DEALSIZE  Discount    Profit  \n",
       "0     USA    Small      0.00   41.9136  \n",
       "1  France    Small      0.00  219.5820  \n",
       "2  France   Medium      0.00    6.8714  \n",
       "3     USA   Medium      0.45 -383.0310  \n",
       "4     USA   Medium      0.20    2.5164  "
      ]
     },
     "execution_count": 72,
     "metadata": {},
     "output_type": "execute_result"
    }
   ],
   "source": [
    "df = pd.read_excel('sales_data_sample.xlsx', sheet_name=\"saledata\")\n",
    "df.head(5)"
   ]
  },
  {
   "cell_type": "code",
   "execution_count": 74,
   "metadata": {},
   "outputs": [
    {
     "name": "stdout",
     "output_type": "stream",
     "text": [
      "Giá trị trước chuẩn hóa là: 4014.3553483443616\n"
     ]
    }
   ],
   "source": [
    "# Tính toán giá trị trung bình và độ lệch chuẩn của cột SALES\n",
    "mean_sales = df['SALES'].mean()\n",
    "std_sales = df['SALES'].std()\n",
    "\n",
    "# Giá trị Z-Score\n",
    "z_score_value = 0.25\n",
    "\n",
    "# Tính giá trị trước chuẩn hóa\n",
    "x_before_scaling = z_score_value * std_sales + mean_sales\n",
    "print(f\"Giá trị trước chuẩn hóa là: {x_before_scaling}\")"
   ]
  },
  {
   "cell_type": "code",
   "execution_count": 75,
   "metadata": {},
   "outputs": [
    {
     "name": "stdout",
     "output_type": "stream",
     "text": [
      "Chi-squared: 34.344354882679596\n",
      "p-value: 0.0001614574648411617\n",
      "Có mối liên hệ giữa trạng thái giao hàng và kích thước đặt hàng.\n"
     ]
    }
   ],
   "source": [
    "# Tạo bảng tần suất giữa trạng thái giao hàng và kích thước đặt hàng\n",
    "contingency_table = pd.crosstab(df['STATUS'], df['DEALSIZE'])\n",
    "\n",
    "# Thực hiện kiểm định Chi-squared\n",
    "chi2, p_value, dof, expected = chi2_contingency(contingency_table)\n",
    "\n",
    "# In kết quả\n",
    "print(f\"Chi-squared: {chi2}\")\n",
    "print(f\"p-value: {p_value}\")\n",
    "\n",
    "# Kiểm tra mối liên hệ dựa trên giá trị p-value (thường so sánh với mức ý nghĩa alpha = 0.05)\n",
    "if p_value < 0.05:\n",
    "    print(\"Có mối liên hệ giữa trạng thái giao hàng và kích thước đặt hàng.\")\n",
    "else:\n",
    "    print(\"Không có mối liên hệ giữa trạng thái giao hàng và kích thước đặt hàng.\")"
   ]
  },
  {
   "cell_type": "code",
   "execution_count": 76,
   "metadata": {},
   "outputs": [
    {
     "name": "stdout",
     "output_type": "stream",
     "text": [
      "Giá trị Z-Score sau khi chuẩn hóa: 3.499773630545118\n"
     ]
    }
   ],
   "source": [
    "# Tính toán giá trị trung bình và độ lệch chuẩn của cột SALES\n",
    "mean_sales = df['SALES'].mean()\n",
    "std_sales = df['SALES'].std()\n",
    "\n",
    "# Giá trị SALES cần chuẩn hóa\n",
    "sales_value = 10000\n",
    "\n",
    "# Tính Z-Score\n",
    "z_score_value = (sales_value - mean_sales) / std_sales\n",
    "print(f\"Giá trị Z-Score sau khi chuẩn hóa: {z_score_value}\")"
   ]
  },
  {
   "cell_type": "code",
   "execution_count": 77,
   "metadata": {},
   "outputs": [
    {
     "name": "stdout",
     "output_type": "stream",
     "text": [
      "DEALSIZE\n",
      "Large     1294.739895\n",
      "Medium    1047.090148\n",
      "Small      577.183322\n",
      "Name: SALES, dtype: float64\n"
     ]
    }
   ],
   "source": [
    "# Tính độ lệch chuẩn của SALES trên từng nhóm DEALSIZE\n",
    "std_per_dealsize = df.groupby('DEALSIZE')['SALES'].std()\n",
    "\n",
    "# In kết quả\n",
    "print(std_per_dealsize)"
   ]
  },
  {
   "cell_type": "code",
   "execution_count": 78,
   "metadata": {},
   "outputs": [
    {
     "name": "stdout",
     "output_type": "stream",
     "text": [
      "Giá trị sau khi scale tại index 100: -0.05354391121357394\n"
     ]
    }
   ],
   "source": [
    "from sklearn.preprocessing import MaxAbsScaler\n",
    "# Tính giá trị trung bình và độ lệch chuẩn của cột SALES\n",
    "mean_sales = df['SALES'].mean()\n",
    "std_sales = df['SALES'].std()\n",
    "\n",
    "# Áp dụng Z-Score Scaler cho cột SALES\n",
    "df['SALES_ZSCORE'] = (df['SALES'] - mean_sales) / std_sales\n",
    "\n",
    "# Áp dụng Max Absolute Scaler\n",
    "max_abs_scaler = MaxAbsScaler()\n",
    "df['SALES_SCALED'] = max_abs_scaler.fit_transform(df[['SALES_ZSCORE']])\n",
    "\n",
    "# Lấy giá trị tại index 100\n",
    "scaled_value = df.loc[100, 'SALES_SCALED']\n",
    "print(f\"Giá trị sau khi scale tại index 100: {scaled_value}\")"
   ]
  },
  {
   "cell_type": "code",
   "execution_count": 79,
   "metadata": {},
   "outputs": [
    {
     "name": "stderr",
     "output_type": "stream",
     "text": [
      "C:\\Users\\Admin\\AppData\\Local\\Temp\\ipykernel_19044\\1726855791.py:3: FutureWarning: \n",
      "\n",
      "Passing `palette` without assigning `hue` is deprecated and will be removed in v0.14.0. Assign the `x` variable to `hue` and set `legend=False` for the same effect.\n",
      "\n",
      "  sns.boxplot(data=df, x='DEALSIZE', y='SALES', palette='Set3')\n"
     ]
    },
    {
     "data": {
      "image/png": "[encoded data removed]",
      "text/plain": [
       "<Figure size 1000x600 with 1 Axes>"
      ]
     },
     "metadata": {},
     "output_type": "display_data"
    }
   ],
   "source": [
    "# Vẽ biểu đồ boxplot về doanh số trên từng nhóm kích thước đặt hàng\n",
    "plt.figure(figsize=(10, 6))\n",
    "sns.boxplot(data=df, x='DEALSIZE', y='SALES', palette='Set3')\n",
    "plt.title('Phân phối doanh số trên từng nhóm kích thước đặt hàng', fontsize=16)\n",
    "plt.xlabel('Kích thước đặt hàng', fontsize=12)\n",
    "plt.ylabel('Doanh số', fontsize=12)\n",
    "plt.show()"
   ]
  },
  {
   "cell_type": "code",
   "execution_count": 80,
   "metadata": {},
   "outputs": [
    {
     "name": "stdout",
     "output_type": "stream",
     "text": [
      "F-statistic: 3.506652356165296\n",
      "p-value: 0.0036611658094056958\n",
      "Có mối phụ thuộc giữa trạng thái giao hàng và giá trị đặt hàng.\n"
     ]
    }
   ],
   "source": [
    "from scipy.stats import f_oneway\n",
    "# Tạo danh sách các giá trị SALES cho từng nhóm STATUS\n",
    "groups = [df[df['STATUS'] == status]['SALES'] for status in df['STATUS'].unique()]\n",
    "\n",
    "# Thực hiện kiểm định ANOVA\n",
    "f_stat, p_value = f_oneway(*groups)\n",
    "\n",
    "# In kết quả kiểm định ANOVA\n",
    "print(f\"F-statistic: {f_stat}\")\n",
    "print(f\"p-value: {p_value}\")\n",
    "\n",
    "# Kiểm tra mối liên hệ dựa trên giá trị p-value (thường so sánh với alpha = 0.05)\n",
    "if p_value < 0.05:\n",
    "    print(\"Có mối phụ thuộc giữa trạng thái giao hàng và giá trị đặt hàng.\")\n",
    "else:\n",
    "    print(\"Không có mối phụ thuộc giữa trạng thái giao hàng và giá trị đặt hàng.\")"
   ]
  },
  {
   "cell_type": "code",
   "execution_count": 81,
   "metadata": {},
   "outputs": [
    {
     "name": "stderr",
     "output_type": "stream",
     "text": [
      "C:\\Users\\Admin\\AppData\\Local\\Temp\\ipykernel_19044\\1707908686.py:3: FutureWarning: \n",
      "\n",
      "Passing `palette` without assigning `hue` is deprecated and will be removed in v0.14.0. Assign the `x` variable to `hue` and set `legend=False` for the same effect.\n",
      "\n",
      "  sns.boxplot(data=df, x='STATUS', y='SALES', palette='Set2')\n"
     ]
    },
    {
     "data": {
      "image/png": "[encoded data removed]",
      "text/plain": [
       "<Figure size 1000x600 with 1 Axes>"
      ]
     },
     "metadata": {},
     "output_type": "display_data"
    }
   ],
   "source": [
    "# Vẽ boxplot giữa trạng thái giao hàng và giá trị SALES\n",
    "plt.figure(figsize=(10, 6))\n",
    "sns.boxplot(data=df, x='STATUS', y='SALES', palette='Set2')\n",
    "plt.title('Phân phối giá trị đặt hàng theo trạng thái giao hàng', fontsize=16)\n",
    "plt.xlabel('Trạng thái giao hàng', fontsize=12)\n",
    "plt.ylabel('Giá trị đặt hàng', fontsize=12)\n",
    "plt.show()"
   ]
  },
  {
   "cell_type": "code",
   "execution_count": 82,
   "metadata": {},
   "outputs": [
    {
     "name": "stdout",
     "output_type": "stream",
     "text": [
      "Kurtosis của giá trị đặt hàng: 1.7873782707746377\n"
     ]
    }
   ],
   "source": [
    "from scipy.stats import kurtosis\n",
    "# Tính toán hệ số kurtosis cho cột SALES\n",
    "kurtosis_value = kurtosis(df['SALES'])\n",
    "\n",
    "print(f\"Kurtosis của giá trị đặt hàng: {kurtosis_value}\")"
   ]
  },
  {
   "cell_type": "code",
   "execution_count": 83,
   "metadata": {},
   "outputs": [
    {
     "name": "stdout",
     "output_type": "stream",
     "text": [
      "Độ lệch của giá trị đặt hàng: 1429.012755231965\n"
     ]
    }
   ],
   "source": [
    "# Tính giá trị trung bình của SALES\n",
    "mean_sales = df['SALES'].mean()\n",
    "\n",
    "# Tính độ lệch (mean deviation)\n",
    "mean_deviation = (df['SALES'] - mean_sales).abs().mean()\n",
    "\n",
    "print(f\"Độ lệch của giá trị đặt hàng: {mean_deviation}\")"
   ]
  },
  {
   "cell_type": "code",
   "execution_count": 84,
   "metadata": {},
   "outputs": [
    {
     "name": "stdout",
     "output_type": "stream",
     "text": [
      "Số lượng quốc gia đặt hàng tại công ty ABC: 19\n"
     ]
    }
   ],
   "source": [
    "# Đếm số lượng quốc gia duy nhất trong cột COUNTRY\n",
    "unique_countries = df['COUNTRY'].nunique()\n",
    "\n",
    "print(f\"Số lượng quốc gia đặt hàng tại công ty ABC: {unique_countries}\")"
   ]
  },
  {
   "cell_type": "code",
   "execution_count": 85,
   "metadata": {},
   "outputs": [
    {
     "name": "stdout",
     "output_type": "stream",
     "text": [
      "Giá trị SALES đã được scale từ index 50 đến 59:\n",
      "50    0.571492\n",
      "51    0.142230\n",
      "52    0.268965\n",
      "53    0.846934\n",
      "54    0.251044\n",
      "55    0.169972\n",
      "56    0.207757\n",
      "57    0.346367\n",
      "58    0.333417\n",
      "59    0.233724\n",
      "Name: SALES_SCALED, dtype: float64\n"
     ]
    }
   ],
   "source": [
    "from sklearn.preprocessing import MinMaxScaler\n",
    "# Tạo đối tượng MinMaxScaler\n",
    "scaler = MinMaxScaler()\n",
    "\n",
    "# Reshape dữ liệu để phù hợp với MinMaxScaler\n",
    "sales_reshaped = df[['SALES']]\n",
    "\n",
    "# Fit và transform dữ liệu\n",
    "scaled_sales = scaler.fit_transform(sales_reshaped)\n",
    "\n",
    "# Thêm giá trị đã được scale vào DataFrame\n",
    "df['SALES_SCALED'] = scaled_sales\n",
    "\n",
    "# Lấy giá trị đã scale tại index từ 50 đến 59\n",
    "scaled_values = df.loc[50:59, 'SALES_SCALED']\n",
    "print(f\"Giá trị SALES đã được scale từ index 50 đến 59:\\n{scaled_values}\")"
   ]
  },
  {
   "cell_type": "code",
   "execution_count": 86,
   "metadata": {},
   "outputs": [
    {
     "name": "stdout",
     "output_type": "stream",
     "text": [
      "Mức độ lệch của SALES sau khi được transform:\n",
      "square: 17833172.428262636\n",
      "sqrt: 14.840400823734157\n",
      "cube_root: 2.546307769752096\n",
      "log: 0.5213241826022744\n"
     ]
    }
   ],
   "source": [
    "# Tính toán các biến transform\n",
    "df['SALES_LOG'] = np.log(df['SALES'])\n",
    "df['SALES_SQRT'] = np.sqrt(df['SALES'])\n",
    "df['SALES_SQUARE'] = df['SALES'] ** 2\n",
    "df['SALES_CUBE_ROOT'] = np.cbrt(df['SALES'])\n",
    "\n",
    "# Tính độ lệch chuẩn cho từng biến\n",
    "std_devs = {\n",
    "    'log': df['SALES_LOG'].std(),\n",
    "    'sqrt': df['SALES_SQRT'].std(),\n",
    "    'square': df['SALES_SQUARE'].std(),\n",
    "    'cube_root': df['SALES_CUBE_ROOT'].std()\n",
    "}\n",
    "\n",
    "# Sắp xếp độ lệch chuẩn theo thứ tự giảm dần\n",
    "sorted_std_devs = sorted(std_devs.items(), key=lambda x: x[1], reverse=True)\n",
    "\n",
    "# In kết quả\n",
    "print(\"Mức độ lệch của SALES sau khi được transform:\")\n",
    "for transformation, std_dev in sorted_std_devs:\n",
    "    print(f\"{transformation}: {std_dev}\")"
   ]
  },
  {
   "cell_type": "code",
   "execution_count": 87,
   "metadata": {},
   "outputs": [
    {
     "name": "stdout",
     "output_type": "stream",
     "text": [
      "Kích thước của dữ liệu: 2823 hàng, 16 cột\n"
     ]
    },
    {
     "data": {
      "text/html": [
       "<div>\n",
       "<style scoped>\n",
       "    .dataframe tbody tr th:only-of-type {\n",
       "        vertical-align: middle;\n",
       "    }\n",
       "\n",
       "    .dataframe tbody tr th {\n",
       "        vertical-align: top;\n",
       "    }\n",
       "\n",
       "    .dataframe thead th {\n",
       "        text-align: right;\n",
       "    }\n",
       "</style>\n",
       "<table border=\"1\" class=\"dataframe\">\n",
       "  <thead>\n",
       "    <tr style=\"text-align: right;\">\n",
       "      <th></th>\n",
       "      <th>ORDERNUMBER</th>\n",
       "      <th>QUANTITYORDERED</th>\n",
       "      <th>ORDERLINENUMBER</th>\n",
       "      <th>SALES</th>\n",
       "      <th>ORDERDATE</th>\n",
       "      <th>STATUS</th>\n",
       "      <th>COUNTRY</th>\n",
       "      <th>DEALSIZE</th>\n",
       "      <th>Discount</th>\n",
       "      <th>Profit</th>\n",
       "      <th>SALES_ZSCORE</th>\n",
       "      <th>SALES_SCALED</th>\n",
       "      <th>SALES_LOG</th>\n",
       "      <th>SALES_SQRT</th>\n",
       "      <th>SALES_SQUARE</th>\n",
       "      <th>SALES_CUBE_ROOT</th>\n",
       "    </tr>\n",
       "  </thead>\n",
       "  <tbody>\n",
       "    <tr>\n",
       "      <th>0</th>\n",
       "      <td>10107</td>\n",
       "      <td>30</td>\n",
       "      <td>2</td>\n",
       "      <td>2871.00</td>\n",
       "      <td>2003-02-24</td>\n",
       "      <td>Shipped</td>\n",
       "      <td>USA</td>\n",
       "      <td>Small</td>\n",
       "      <td>0.00</td>\n",
       "      <td>41.9136</td>\n",
       "      <td>-0.370760</td>\n",
       "      <td>0.175644</td>\n",
       "      <td>7.962416</td>\n",
       "      <td>53.581713</td>\n",
       "      <td>8.242641e+06</td>\n",
       "      <td>14.212737</td>\n",
       "    </tr>\n",
       "    <tr>\n",
       "      <th>1</th>\n",
       "      <td>10121</td>\n",
       "      <td>34</td>\n",
       "      <td>5</td>\n",
       "      <td>2765.90</td>\n",
       "      <td>2003-05-07</td>\n",
       "      <td>Shipped</td>\n",
       "      <td>France</td>\n",
       "      <td>Small</td>\n",
       "      <td>0.00</td>\n",
       "      <td>219.5820</td>\n",
       "      <td>-0.427821</td>\n",
       "      <td>0.167916</td>\n",
       "      <td>7.925121</td>\n",
       "      <td>52.591824</td>\n",
       "      <td>7.650203e+06</td>\n",
       "      <td>14.037146</td>\n",
       "    </tr>\n",
       "    <tr>\n",
       "      <th>2</th>\n",
       "      <td>10134</td>\n",
       "      <td>41</td>\n",
       "      <td>2</td>\n",
       "      <td>3884.34</td>\n",
       "      <td>2003-07-01</td>\n",
       "      <td>Shipped</td>\n",
       "      <td>France</td>\n",
       "      <td>Medium</td>\n",
       "      <td>0.00</td>\n",
       "      <td>6.8714</td>\n",
       "      <td>0.179411</td>\n",
       "      <td>0.250150</td>\n",
       "      <td>8.264708</td>\n",
       "      <td>62.324474</td>\n",
       "      <td>1.508810e+07</td>\n",
       "      <td>15.719513</td>\n",
       "    </tr>\n",
       "    <tr>\n",
       "      <th>3</th>\n",
       "      <td>10145</td>\n",
       "      <td>45</td>\n",
       "      <td>6</td>\n",
       "      <td>3746.70</td>\n",
       "      <td>2003-08-25</td>\n",
       "      <td>Shipped</td>\n",
       "      <td>USA</td>\n",
       "      <td>Medium</td>\n",
       "      <td>0.45</td>\n",
       "      <td>-383.0310</td>\n",
       "      <td>0.104682</td>\n",
       "      <td>0.240030</td>\n",
       "      <td>8.228631</td>\n",
       "      <td>61.210293</td>\n",
       "      <td>1.403776e+07</td>\n",
       "      <td>15.531604</td>\n",
       "    </tr>\n",
       "    <tr>\n",
       "      <th>4</th>\n",
       "      <td>10159</td>\n",
       "      <td>49</td>\n",
       "      <td>14</td>\n",
       "      <td>5205.27</td>\n",
       "      <td>2003-10-10</td>\n",
       "      <td>Shipped</td>\n",
       "      <td>USA</td>\n",
       "      <td>Medium</td>\n",
       "      <td>0.20</td>\n",
       "      <td>2.5164</td>\n",
       "      <td>0.896581</td>\n",
       "      <td>0.347273</td>\n",
       "      <td>8.557427</td>\n",
       "      <td>72.147557</td>\n",
       "      <td>2.709484e+07</td>\n",
       "      <td>17.330633</td>\n",
       "    </tr>\n",
       "    <tr>\n",
       "      <th>...</th>\n",
       "      <td>...</td>\n",
       "      <td>...</td>\n",
       "      <td>...</td>\n",
       "      <td>...</td>\n",
       "      <td>...</td>\n",
       "      <td>...</td>\n",
       "      <td>...</td>\n",
       "      <td>...</td>\n",
       "      <td>...</td>\n",
       "      <td>...</td>\n",
       "      <td>...</td>\n",
       "      <td>...</td>\n",
       "      <td>...</td>\n",
       "      <td>...</td>\n",
       "      <td>...</td>\n",
       "      <td>...</td>\n",
       "    </tr>\n",
       "    <tr>\n",
       "      <th>2818</th>\n",
       "      <td>10350</td>\n",
       "      <td>20</td>\n",
       "      <td>15</td>\n",
       "      <td>2244.40</td>\n",
       "      <td>2004-12-02</td>\n",
       "      <td>Shipped</td>\n",
       "      <td>Spain</td>\n",
       "      <td>Small</td>\n",
       "      <td>0.00</td>\n",
       "      <td>315.7404</td>\n",
       "      <td>-0.710958</td>\n",
       "      <td>0.129572</td>\n",
       "      <td>7.716194</td>\n",
       "      <td>47.375099</td>\n",
       "      <td>5.037331e+06</td>\n",
       "      <td>13.092827</td>\n",
       "    </tr>\n",
       "    <tr>\n",
       "      <th>2819</th>\n",
       "      <td>10373</td>\n",
       "      <td>29</td>\n",
       "      <td>1</td>\n",
       "      <td>3978.51</td>\n",
       "      <td>2005-01-31</td>\n",
       "      <td>Shipped</td>\n",
       "      <td>Finland</td>\n",
       "      <td>Medium</td>\n",
       "      <td>0.20</td>\n",
       "      <td>2.3520</td>\n",
       "      <td>0.230539</td>\n",
       "      <td>0.257074</td>\n",
       "      <td>8.288663</td>\n",
       "      <td>63.075431</td>\n",
       "      <td>1.582854e+07</td>\n",
       "      <td>15.845532</td>\n",
       "    </tr>\n",
       "    <tr>\n",
       "      <th>2820</th>\n",
       "      <td>10386</td>\n",
       "      <td>43</td>\n",
       "      <td>4</td>\n",
       "      <td>5417.57</td>\n",
       "      <td>2005-03-01</td>\n",
       "      <td>Resolved</td>\n",
       "      <td>Spain</td>\n",
       "      <td>Medium</td>\n",
       "      <td>0.20</td>\n",
       "      <td>7.4694</td>\n",
       "      <td>1.011844</td>\n",
       "      <td>0.362882</td>\n",
       "      <td>8.597403</td>\n",
       "      <td>73.604144</td>\n",
       "      <td>2.935006e+07</td>\n",
       "      <td>17.563114</td>\n",
       "    </tr>\n",
       "    <tr>\n",
       "      <th>2821</th>\n",
       "      <td>10397</td>\n",
       "      <td>34</td>\n",
       "      <td>1</td>\n",
       "      <td>2116.16</td>\n",
       "      <td>2005-03-28</td>\n",
       "      <td>Shipped</td>\n",
       "      <td>France</td>\n",
       "      <td>Small</td>\n",
       "      <td>0.20</td>\n",
       "      <td>22.6782</td>\n",
       "      <td>-0.780583</td>\n",
       "      <td>0.120143</td>\n",
       "      <td>7.657358</td>\n",
       "      <td>46.001739</td>\n",
       "      <td>4.478133e+06</td>\n",
       "      <td>12.838556</td>\n",
       "    </tr>\n",
       "    <tr>\n",
       "      <th>2822</th>\n",
       "      <td>10414</td>\n",
       "      <td>47</td>\n",
       "      <td>9</td>\n",
       "      <td>3079.44</td>\n",
       "      <td>2005-05-06</td>\n",
       "      <td>On Hold</td>\n",
       "      <td>USA</td>\n",
       "      <td>Medium</td>\n",
       "      <td>0.20</td>\n",
       "      <td>0.5580</td>\n",
       "      <td>-0.257592</td>\n",
       "      <td>0.190969</td>\n",
       "      <td>8.032503</td>\n",
       "      <td>55.492702</td>\n",
       "      <td>9.482951e+06</td>\n",
       "      <td>14.548691</td>\n",
       "    </tr>\n",
       "  </tbody>\n",
       "</table>\n",
       "<p>2823 rows × 16 columns</p>\n",
       "</div>"
      ],
      "text/plain": [
       "      ORDERNUMBER  QUANTITYORDERED  ORDERLINENUMBER    SALES  ORDERDATE  \\\n",
       "0           10107               30                2  2871.00 2003-02-24   \n",
       "1           10121               34                5  2765.90 2003-05-07   \n",
       "2           10134               41                2  3884.34 2003-07-01   \n",
       "3           10145               45                6  3746.70 2003-08-25   \n",
       "4           10159               49               14  5205.27 2003-10-10   \n",
       "...           ...              ...              ...      ...        ...   \n",
       "2818        10350               20               15  2244.40 2004-12-02   \n",
       "2819        10373               29                1  3978.51 2005-01-31   \n",
       "2820        10386               43                4  5417.57 2005-03-01   \n",
       "2821        10397               34                1  2116.16 2005-03-28   \n",
       "2822        10414               47                9  3079.44 2005-05-06   \n",
       "\n",
       "        STATUS  COUNTRY DEALSIZE  Discount    Profit  SALES_ZSCORE  \\\n",
       "0      Shipped      USA    Small      0.00   41.9136     -0.370760   \n",
       "1      Shipped   France    Small      0.00  219.5820     -0.427821   \n",
       "2      Shipped   France   Medium      0.00    6.8714      0.179411   \n",
       "3      Shipped      USA   Medium      0.45 -383.0310      0.104682   \n",
       "4      Shipped      USA   Medium      0.20    2.5164      0.896581   \n",
       "...        ...      ...      ...       ...       ...           ...   \n",
       "2818   Shipped    Spain    Small      0.00  315.7404     -0.710958   \n",
       "2819   Shipped  Finland   Medium      0.20    2.3520      0.230539   \n",
       "2820  Resolved    Spain   Medium      0.20    7.4694      1.011844   \n",
       "2821   Shipped   France    Small      0.20   22.6782     -0.780583   \n",
       "2822   On Hold      USA   Medium      0.20    0.5580     -0.257592   \n",
       "\n",
       "      SALES_SCALED  SALES_LOG  SALES_SQRT  SALES_SQUARE  SALES_CUBE_ROOT  \n",
       "0         0.175644   7.962416   53.581713  8.242641e+06        14.212737  \n",
       "1         0.167916   7.925121   52.591824  7.650203e+06        14.037146  \n",
       "2         0.250150   8.264708   62.324474  1.508810e+07        15.719513  \n",
       "3         0.240030   8.228631   61.210293  1.403776e+07        15.531604  \n",
       "4         0.347273   8.557427   72.147557  2.709484e+07        17.330633  \n",
       "...            ...        ...         ...           ...              ...  \n",
       "2818      0.129572   7.716194   47.375099  5.037331e+06        13.092827  \n",
       "2819      0.257074   8.288663   63.075431  1.582854e+07        15.845532  \n",
       "2820      0.362882   8.597403   73.604144  2.935006e+07        17.563114  \n",
       "2821      0.120143   7.657358   46.001739  4.478133e+06        12.838556  \n",
       "2822      0.190969   8.032503   55.492702  9.482951e+06        14.548691  \n",
       "\n",
       "[2823 rows x 16 columns]"
      ]
     },
     "execution_count": 87,
     "metadata": {},
     "output_type": "execute_result"
    }
   ],
   "source": [
    "# Lấy kích thước của DataFrame\n",
    "data_shape = df.shape\n",
    "print(f\"Kích thước của dữ liệu: {data_shape[0]} hàng, {data_shape[1]} cột\")\n",
    "df"
   ]
  },
  {
   "cell_type": "code",
   "execution_count": 88,
   "metadata": {},
   "outputs": [
    {
     "name": "stdout",
     "output_type": "stream",
     "text": [
      "Quốc gia có tổng doanh số đặt hàng đứng ở vị trí thứ 5 là: UK với tổng doanh số là: 478880.46\n"
     ]
    }
   ],
   "source": [
    "# Nhóm dữ liệu theo quốc gia và tính tổng doanh số\n",
    "total_sales_by_country = df.groupby('COUNTRY')['SALES'].sum()\n",
    "\n",
    "# Sắp xếp tổng doanh số theo thứ tự giảm dần và lấy quốc gia ở vị trí thứ 5\n",
    "fifth_country = total_sales_by_country.sort_values(ascending=False).index[4]\n",
    "fifth_country_sales = total_sales_by_country.sort_values(ascending=False).iloc[4]\n",
    "\n",
    "print(f\"Quốc gia có tổng doanh số đặt hàng đứng ở vị trí thứ 5 là: {fifth_country} với tổng doanh số là: {fifth_country_sales}\")"
   ]
  }
 ],
 "metadata": {
  "kernelspec": {
   "display_name": "Python 3",
   "language": "python",
   "name": "python3"
  },
  "language_info": {
   "codemirror_mode": {
    "name": "ipython",
    "version": 3
   },
   "file_extension": ".py",
   "mimetype": "text/x-python",
   "name": "python",
   "nbconvert_exporter": "python",
   "pygments_lexer": "ipython3",
   "version": "3.10.9"
  }
 },
 "nbformat": 4,
 "nbformat_minor": 2
}
